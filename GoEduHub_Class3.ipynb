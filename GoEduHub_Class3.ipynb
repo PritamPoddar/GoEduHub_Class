{
  "nbformat": 4,
  "nbformat_minor": 0,
  "metadata": {
    "colab": {
      "name": "GoEduHub_Class3",
      "provenance": [],
      "collapsed_sections": []
    },
    "kernelspec": {
      "name": "python3",
      "display_name": "Python 3"
    },
    "language_info": {
      "name": "python"
    }
  },
  "cells": [
    {
      "cell_type": "markdown",
      "metadata": {
        "id": "jq87wq_UsJIH"
      },
      "source": [
        "# List"
      ]
    },
    {
      "cell_type": "code",
      "metadata": {
        "id": "QJuvoMA9sMUU"
      },
      "source": [
        "C1 = [1,2,3]\n",
        "C2 = [\"Apple\",\"Orange\",\"Banana\",\"Mango\",\"Grapes\"]\n",
        "L = []  #Empty List"
      ],
      "execution_count": null,
      "outputs": []
    },
    {
      "cell_type": "code",
      "metadata": {
        "colab": {
          "base_uri": "https://localhost:8080/"
        },
        "id": "fN43g0JVuic7",
        "outputId": "6b35edcc-9151-4b5e-81e8-33fc5feca0bb"
      },
      "source": [
        "T = (1,2,3)\n",
        "L1 = list(T)\n",
        "print(T)"
      ],
      "execution_count": null,
      "outputs": [
        {
          "output_type": "stream",
          "text": [
            "(1, 2, 3)\n"
          ],
          "name": "stdout"
        }
      ]
    },
    {
      "cell_type": "code",
      "metadata": {
        "colab": {
          "base_uri": "https://localhost:8080/"
        },
        "id": "8iqNUz_QusBp",
        "outputId": "ce5acd83-fe1c-4d02-857a-fd1afbfe88fa"
      },
      "source": [
        "# How to make a user imput list\n",
        "A = []\n",
        "B = int(input(\"Enter Number of strings - \"))\n",
        "for I in range(B):\n",
        "  C = input(\"Enter any thing - \")\n",
        "  A.append(C)   # Append add element in the end of list\n",
        "print(A)"
      ],
      "execution_count": null,
      "outputs": [
        {
          "output_type": "stream",
          "text": [
            "Enter Number of strings - 5\n",
            "Enter any thing - 10\n",
            "Enter any thing - 12\n",
            "Enter any thing - 14\n",
            "Enter any thing - 16\n",
            "Enter any thing - 18\n",
            "['10', '12', '14', '16', '18']\n"
          ],
          "name": "stdout"
        }
      ]
    },
    {
      "cell_type": "code",
      "metadata": {
        "colab": {
          "base_uri": "https://localhost:8080/",
          "height": 36
        },
        "id": "mJHycwh0wkXE",
        "outputId": "1c0ff5dc-13fc-4362-eac5-c1c7cb9da4dc"
      },
      "source": [
        "# Accessing Elements of List\n",
        "\n",
        "A[2]"
      ],
      "execution_count": null,
      "outputs": [
        {
          "output_type": "execute_result",
          "data": {
            "application/vnd.google.colaboratory.intrinsic+json": {
              "type": "string"
            },
            "text/plain": [
              "'14'"
            ]
          },
          "metadata": {
            "tags": []
          },
          "execution_count": 21
        }
      ]
    },
    {
      "cell_type": "code",
      "metadata": {
        "colab": {
          "base_uri": "https://localhost:8080/"
        },
        "id": "ldOtCRZCwkx-",
        "outputId": "1e2b7c6d-a6ac-4131-d824-85d5bf3def22"
      },
      "source": [
        "A[-1]"
      ],
      "execution_count": null,
      "outputs": [
        {
          "output_type": "execute_result",
          "data": {
            "text/plain": [
              "['14', '16']"
            ]
          },
          "metadata": {
            "tags": []
          },
          "execution_count": 24
        }
      ]
    },
    {
      "cell_type": "code",
      "metadata": {
        "colab": {
          "base_uri": "https://localhost:8080/"
        },
        "id": "7o0AnXKgxQQs",
        "outputId": "e1a34732-dcc6-4105-e953-7c9166b20a26"
      },
      "source": [
        "A[2:4]"
      ],
      "execution_count": null,
      "outputs": [
        {
          "output_type": "execute_result",
          "data": {
            "text/plain": [
              "['14', '16']"
            ]
          },
          "metadata": {
            "tags": []
          },
          "execution_count": 25
        }
      ]
    },
    {
      "cell_type": "code",
      "metadata": {
        "colab": {
          "base_uri": "https://localhost:8080/"
        },
        "id": "gCX3r5_rxZUW",
        "outputId": "63c6d23c-3df7-451c-b54f-480cb59b7845"
      },
      "source": [
        "# How to Update List\n",
        "Z = [20,40,60,30,50,70]\n",
        "Z[2] = 20\n",
        "Z[4] = 100\n",
        "print(Z)"
      ],
      "execution_count": null,
      "outputs": [
        {
          "output_type": "stream",
          "text": [
            "[20, 40, 20, 30, 100, 70]\n"
          ],
          "name": "stdout"
        }
      ]
    },
    {
      "cell_type": "code",
      "metadata": {
        "colab": {
          "base_uri": "https://localhost:8080/"
        },
        "id": "dyLFUDjVyxbf",
        "outputId": "a61f8818-c5c7-408f-842c-5da9c5c29119"
      },
      "source": [
        "# Insert is used to inser a value in a specific Position \n",
        "Z.insert(-2,\"Pritam\")\n",
        "print(Z)"
      ],
      "execution_count": null,
      "outputs": [
        {
          "output_type": "stream",
          "text": [
            "[20, 40, 20, 30, 'Pritam', 100, 70]\n"
          ],
          "name": "stdout"
        }
      ]
    },
    {
      "cell_type": "code",
      "metadata": {
        "colab": {
          "base_uri": "https://localhost:8080/"
        },
        "id": "fqf9tw6WznxJ",
        "outputId": "d6b5474e-f618-4f2e-8ac3-16a1cc6e63ff"
      },
      "source": [
        "Y = [22,24,26,28,[\"A\",\"B\",\"C\"],30,32,34]\n",
        "print(Y[2])\n",
        "print(Y[4])\n",
        "print(Y[2],Y[4],Y[6])"
      ],
      "execution_count": null,
      "outputs": [
        {
          "output_type": "stream",
          "text": [
            "26\n",
            "['A', 'B', 'C']\n",
            "26 ['A', 'B', 'C'] 32\n"
          ],
          "name": "stdout"
        }
      ]
    },
    {
      "cell_type": "markdown",
      "metadata": {
        "id": "te8oWNvLsssI"
      },
      "source": [
        "# Tuple"
      ]
    },
    {
      "cell_type": "code",
      "metadata": {
        "colab": {
          "base_uri": "https://localhost:8080/"
        },
        "id": "6Jw5FGXQswrA",
        "outputId": "cd96e0cf-0893-4254-f8b9-4f9908087e2b"
      },
      "source": [
        "X,Y =3,4\n",
        "print(X,Y)"
      ],
      "execution_count": null,
      "outputs": [
        {
          "output_type": "stream",
          "text": [
            "3 4\n"
          ],
          "name": "stdout"
        }
      ]
    },
    {
      "cell_type": "code",
      "metadata": {
        "colab": {
          "base_uri": "https://localhost:8080/"
        },
        "id": "eOrYqBoHFk3d",
        "outputId": "06fe454a-390c-420e-a839-bd5e988c506b"
      },
      "source": [
        "A,B,C = 10,12,14\n",
        "print(A,B,C)\n",
        "print(B)"
      ],
      "execution_count": null,
      "outputs": [
        {
          "output_type": "stream",
          "text": [
            "10 12 14\n",
            "12\n"
          ],
          "name": "stdout"
        }
      ]
    },
    {
      "cell_type": "code",
      "metadata": {
        "colab": {
          "base_uri": "https://localhost:8080/"
        },
        "id": "u0yHNTAGFvAM",
        "outputId": "27f8ba54-1cce-4591-87ca-0b258ac8a3c2"
      },
      "source": [
        "T = (\"A\",\"B\",\"C\",\"D\",\"E\",\"F\")\n",
        "print(T)"
      ],
      "execution_count": null,
      "outputs": [
        {
          "output_type": "stream",
          "text": [
            "('A', 'B', 'C', 'D', 'E', 'F')\n"
          ],
          "name": "stdout"
        }
      ]
    },
    {
      "cell_type": "code",
      "metadata": {
        "colab": {
          "base_uri": "https://localhost:8080/"
        },
        "id": "uAp7wY3kGA5F",
        "outputId": "027114d8-02b7-45da-b30a-84c62f3e4889"
      },
      "source": [
        "print(\"A\" in T) "
      ],
      "execution_count": null,
      "outputs": [
        {
          "output_type": "stream",
          "text": [
            "True\n"
          ],
          "name": "stdout"
        }
      ]
    },
    {
      "cell_type": "code",
      "metadata": {
        "colab": {
          "base_uri": "https://localhost:8080/",
          "height": 36
        },
        "id": "Xtu5iaaVGLwO",
        "outputId": "b459cf34-0a69-4c42-82db-d02496c4d23c"
      },
      "source": [
        "T[0]"
      ],
      "execution_count": null,
      "outputs": [
        {
          "output_type": "execute_result",
          "data": {
            "application/vnd.google.colaboratory.intrinsic+json": {
              "type": "string"
            },
            "text/plain": [
              "'A'"
            ]
          },
          "metadata": {
            "tags": []
          },
          "execution_count": 66
        }
      ]
    },
    {
      "cell_type": "code",
      "metadata": {
        "colab": {
          "base_uri": "https://localhost:8080/",
          "height": 36
        },
        "id": "Ig7ij5nCGakR",
        "outputId": "6bca1920-f779-4a03-9cea-a7d4ff915a3b"
      },
      "source": [
        "T[-1]"
      ],
      "execution_count": null,
      "outputs": [
        {
          "output_type": "execute_result",
          "data": {
            "application/vnd.google.colaboratory.intrinsic+json": {
              "type": "string"
            },
            "text/plain": [
              "'F'"
            ]
          },
          "metadata": {
            "tags": []
          },
          "execution_count": 67
        }
      ]
    },
    {
      "cell_type": "code",
      "metadata": {
        "colab": {
          "base_uri": "https://localhost:8080/"
        },
        "id": "ugYOyYKcGdUp",
        "outputId": "688c1c24-9d9a-4cdc-c48a-7c4b91122051"
      },
      "source": [
        "len(T)"
      ],
      "execution_count": null,
      "outputs": [
        {
          "output_type": "execute_result",
          "data": {
            "text/plain": [
              "6"
            ]
          },
          "metadata": {
            "tags": []
          },
          "execution_count": 68
        }
      ]
    },
    {
      "cell_type": "code",
      "metadata": {
        "colab": {
          "base_uri": "https://localhost:8080/"
        },
        "id": "cdndMarjGhPg",
        "outputId": "9e8e2c86-862d-450a-d585-7aeefeea332b"
      },
      "source": [
        "T1 = (1,2,3,4,\"Ram\")\n",
        "T1"
      ],
      "execution_count": null,
      "outputs": [
        {
          "output_type": "execute_result",
          "data": {
            "text/plain": [
              "(1, 2, 3, 4, 'Ram')"
            ]
          },
          "metadata": {
            "tags": []
          },
          "execution_count": 70
        }
      ]
    },
    {
      "cell_type": "markdown",
      "metadata": {
        "id": "IKzDvpOqGxz-"
      },
      "source": [
        "# Dictionary"
      ]
    },
    {
      "cell_type": "code",
      "metadata": {
        "colab": {
          "base_uri": "https://localhost:8080/"
        },
        "id": "3HKJAb5xG3hW",
        "outputId": "f55f2410-373f-471d-8cfc-6fa33a30639f"
      },
      "source": [
        "D ={\"Red\":1,\"Blue\":2,\"Green\":3}\n",
        "D"
      ],
      "execution_count": null,
      "outputs": [
        {
          "output_type": "execute_result",
          "data": {
            "text/plain": [
              "{'Blue': 2, 'Green': 3, 'Red': 1}"
            ]
          },
          "metadata": {
            "tags": []
          },
          "execution_count": 72
        }
      ]
    },
    {
      "cell_type": "code",
      "metadata": {
        "colab": {
          "base_uri": "https://localhost:8080/"
        },
        "id": "oON3WOKXIpLk",
        "outputId": "84735734-1cbb-4d12-d41a-3a9f2dff0e24"
      },
      "source": [
        "D1 ={\"Red\":1,\"Blue\":2,\"Green\":3,\"Name\":\"Pritam\",\"N\":10}\n",
        "D1"
      ],
      "execution_count": null,
      "outputs": [
        {
          "output_type": "execute_result",
          "data": {
            "text/plain": [
              "{'Blue': 2, 'Green': 3, 'N': 10, 'Name': 'Pritam', 'Red': 1}"
            ]
          },
          "metadata": {
            "tags": []
          },
          "execution_count": 1
        }
      ]
    },
    {
      "cell_type": "code",
      "metadata": {
        "colab": {
          "base_uri": "https://localhost:8080/"
        },
        "id": "rOInOGIsIyjE",
        "outputId": "daf84c37-1e2a-4fdc-96a3-cce885f46bf3"
      },
      "source": [
        "# Creating a Dictionary by 2 list\n",
        "X = (\"Name\",\"Roll\",\"Sec\")\n",
        "Y = (\"Pritam\",\"20040\",\"F3,BA3\")\n",
        "Z  = dict(zip(X,Y))\n",
        "Z"
      ],
      "execution_count": null,
      "outputs": [
        {
          "output_type": "execute_result",
          "data": {
            "text/plain": [
              "{'Name': 'Pritam', 'Roll': '20040', 'Sec': 'F3,BA3'}"
            ]
          },
          "metadata": {
            "tags": []
          },
          "execution_count": 4
        }
      ]
    },
    {
      "cell_type": "code",
      "metadata": {
        "id": "24mL21I1JluR",
        "colab": {
          "base_uri": "https://localhost:8080/"
        },
        "outputId": "e79c1c88-80cb-4917-9f5c-d66287f9093e"
      },
      "source": [
        "Z.values() # It will give u all the vaue assigent to each keys"
      ],
      "execution_count": null,
      "outputs": [
        {
          "output_type": "execute_result",
          "data": {
            "text/plain": [
              "dict_values(['Pritam', '20040', 'F3,BA3'])"
            ]
          },
          "metadata": {
            "tags": []
          },
          "execution_count": 5
        }
      ]
    },
    {
      "cell_type": "code",
      "metadata": {
        "colab": {
          "base_uri": "https://localhost:8080/"
        },
        "id": "1BqvzAEsilPt",
        "outputId": "e859b262-6cc3-4adc-8085-74d3b00834dc"
      },
      "source": [
        "Z.keys() # It will give u all the Keys"
      ],
      "execution_count": null,
      "outputs": [
        {
          "output_type": "execute_result",
          "data": {
            "text/plain": [
              "dict_keys(['Name', 'Roll', 'Sec'])"
            ]
          },
          "metadata": {
            "tags": []
          },
          "execution_count": 6
        }
      ]
    },
    {
      "cell_type": "code",
      "metadata": {
        "colab": {
          "base_uri": "https://localhost:8080/"
        },
        "id": "QBtdx9ACizBP",
        "outputId": "70283317-bc00-44b5-8b37-12dad0463184"
      },
      "source": [
        "Z.items()"
      ],
      "execution_count": null,
      "outputs": [
        {
          "output_type": "execute_result",
          "data": {
            "text/plain": [
              "dict_items([('Name', 'Pritam'), ('Roll', '20040'), ('Sec', 'F3,BA3')])"
            ]
          },
          "metadata": {
            "tags": []
          },
          "execution_count": 7
        }
      ]
    },
    {
      "cell_type": "code",
      "metadata": {
        "colab": {
          "base_uri": "https://localhost:8080/"
        },
        "id": "YmIXNidDi5k7",
        "outputId": "381b3d48-e43f-45ea-ea43-5204183cad6d"
      },
      "source": [
        "for I in Z:\n",
        "  print(I,\"-\")\n",
        "  print(Z[I])"
      ],
      "execution_count": null,
      "outputs": [
        {
          "output_type": "stream",
          "text": [
            "Name -\n",
            "Pritam\n",
            "Roll -\n",
            "20040\n",
            "Sec -\n",
            "F3,BA3\n"
          ],
          "name": "stdout"
        }
      ]
    },
    {
      "cell_type": "markdown",
      "metadata": {
        "id": "5GMdb5A4kxFy"
      },
      "source": [
        "OR"
      ]
    },
    {
      "cell_type": "code",
      "metadata": {
        "colab": {
          "base_uri": "https://localhost:8080/"
        },
        "id": "ZHRjB5X2kLta",
        "outputId": "bf799cf3-a30e-4288-e49d-9ee583fe3289"
      },
      "source": [
        "for A in Z.values():\n",
        "  print(A)"
      ],
      "execution_count": null,
      "outputs": [
        {
          "output_type": "stream",
          "text": [
            "Pritam\n",
            "20040\n",
            "F3,BA3\n"
          ],
          "name": "stdout"
        }
      ]
    },
    {
      "cell_type": "code",
      "metadata": {
        "colab": {
          "base_uri": "https://localhost:8080/",
          "height": 36
        },
        "id": "R-W6NgEWkX9L",
        "outputId": "f878601e-5bf3-4214-fd44-ecb0963dbddf"
      },
      "source": [
        "# Help to get the value assigned to the key\n",
        "Z.get(\"Name\")"
      ],
      "execution_count": null,
      "outputs": [
        {
          "output_type": "execute_result",
          "data": {
            "application/vnd.google.colaboratory.intrinsic+json": {
              "type": "string"
            },
            "text/plain": [
              "'Pritam'"
            ]
          },
          "metadata": {
            "tags": []
          },
          "execution_count": 23
        }
      ]
    },
    {
      "cell_type": "code",
      "metadata": {
        "colab": {
          "base_uri": "https://localhost:8080/"
        },
        "id": "8ZzX45_Olh4f",
        "outputId": "06e2fa5e-8dc4-4e18-8cab-4ac12072215e"
      },
      "source": [
        "# Update any value\n",
        "Z[\"Name\"] = \"Pritam Poddar\"\n",
        "print(Z)"
      ],
      "execution_count": null,
      "outputs": [
        {
          "output_type": "stream",
          "text": [
            "{'Name': 'Pritam Poddar', 'Roll': '20040', 'Sec': 'F3,BA3'}\n"
          ],
          "name": "stdout"
        }
      ]
    },
    {
      "cell_type": "code",
      "metadata": {
        "colab": {
          "base_uri": "https://localhost:8080/"
        },
        "id": "IIThSjEUmG0W",
        "outputId": "40c94fdf-fe30-4a8b-a63f-29de90ac08eb"
      },
      "source": [
        "# Add new value with new Key\n",
        "Z[\"DOB\"] = \"08/03/1997\"\n",
        "print(Z)"
      ],
      "execution_count": null,
      "outputs": [
        {
          "output_type": "stream",
          "text": [
            "{'Name': 'Pritam Poddar', 'Roll': '20040', 'Sec': 'F3,BA3', 'DOB': '08/03/1997'}\n"
          ],
          "name": "stdout"
        }
      ]
    },
    {
      "cell_type": "code",
      "metadata": {
        "colab": {
          "base_uri": "https://localhost:8080/"
        },
        "id": "MWT3Gn_An-1Y",
        "outputId": "3052b098-0847-4503-8862-b2b2866ea1f3"
      },
      "source": [
        "# Murge 2 Dictionary into One \n",
        "Z1 = {\"Age\":\"24\",\"Gender\":\"M\"}\n",
        "print(Z1)\n",
        "\n",
        "Z.update(Z1)  # Z.update(Z1) where Z = Old Dictionary and Z1 = New Dictionary\n",
        "print(Z)"
      ],
      "execution_count": null,
      "outputs": [
        {
          "output_type": "stream",
          "text": [
            "{'Age': '24', 'Gender': 'M'}\n",
            "{'Name': 'Pritam Poddar', 'Roll': '20040', 'Sec': 'F3,BA3', 'DOB': '08/03/1997', 'Gender': 'M', 'Age': '24'}\n"
          ],
          "name": "stdout"
        }
      ]
    },
    {
      "cell_type": "code",
      "metadata": {
        "colab": {
          "base_uri": "https://localhost:8080/"
        },
        "id": "JzAE5ZZB1KK1",
        "outputId": "58f496fc-2950-411b-88fb-012f8f844a18"
      },
      "source": [
        "#  Length of Dictionary\n",
        "len(Z)"
      ],
      "execution_count": null,
      "outputs": [
        {
          "output_type": "execute_result",
          "data": {
            "text/plain": [
              "6"
            ]
          },
          "metadata": {
            "tags": []
          },
          "execution_count": 45
        }
      ]
    },
    {
      "cell_type": "code",
      "metadata": {
        "colab": {
          "base_uri": "https://localhost:8080/"
        },
        "id": "OGE92gJe1anE",
        "outputId": "86a87f1a-689b-4920-a4a2-c12683dce6f0"
      },
      "source": [
        "#  Delete the key and value Assigend to the key\n",
        "Z.pop(\"Age\")  # Z.pop(\"Age\"), where Age is the Key\n",
        "print(Z)"
      ],
      "execution_count": null,
      "outputs": [
        {
          "output_type": "stream",
          "text": [
            "{'Name': 'Pritam Poddar', 'Roll': '20040', 'Sec': 'F3,BA3', 'DOB': '08/03/1997', 'Gender': 'M'}\n"
          ],
          "name": "stdout"
        }
      ]
    },
    {
      "cell_type": "markdown",
      "metadata": {
        "id": "H5dh1QOVBfod"
      },
      "source": [
        "# SET\n",
        "###Collection of unordered items\n",
        "### Show Unique Values\n",
        "###Chance the item"
      ]
    },
    {
      "cell_type": "code",
      "metadata": {
        "colab": {
          "base_uri": "https://localhost:8080/"
        },
        "id": "dh4ay6Yk-6fk",
        "outputId": "5ed8ac50-fe44-4548-d6fc-56ba32a73280"
      },
      "source": [
        "S = {1,2,3,4,5,6}\n",
        "print(S)\n",
        "type(S)"
      ],
      "execution_count": null,
      "outputs": [
        {
          "output_type": "stream",
          "text": [
            "{1, 2, 3, 4, 5, 6}\n"
          ],
          "name": "stdout"
        },
        {
          "output_type": "execute_result",
          "data": {
            "text/plain": [
              "set"
            ]
          },
          "metadata": {
            "tags": []
          },
          "execution_count": 55
        }
      ]
    },
    {
      "cell_type": "code",
      "metadata": {
        "colab": {
          "base_uri": "https://localhost:8080/"
        },
        "id": "Xcax5iCjCokQ",
        "outputId": "e77e2cd3-c45c-46eb-84ea-2903f040eb12"
      },
      "source": [
        "R = (\"A\",\"B\",\"C\",\"D\",\"E\",\"F\")\n",
        "print(R)\n",
        "type(R)"
      ],
      "execution_count": null,
      "outputs": [
        {
          "output_type": "stream",
          "text": [
            "('A', 'B', 'C', 'D', 'E', 'F')\n"
          ],
          "name": "stdout"
        },
        {
          "output_type": "execute_result",
          "data": {
            "text/plain": [
              "tuple"
            ]
          },
          "metadata": {
            "tags": []
          },
          "execution_count": 58
        }
      ]
    },
    {
      "cell_type": "code",
      "metadata": {
        "colab": {
          "base_uri": "https://localhost:8080/"
        },
        "id": "30xTX-C0C-aS",
        "outputId": "47f1e665-3311-4cc2-c7ee-8021ea87a68d"
      },
      "source": [
        "S1 = {1,2,2,2,2,2,2,4,3,6,4,4,5,6}\n",
        "print(S1)"
      ],
      "execution_count": null,
      "outputs": [
        {
          "output_type": "stream",
          "text": [
            "{1, 2, 3, 4, 5, 6}\n"
          ],
          "name": "stdout"
        }
      ]
    },
    {
      "cell_type": "code",
      "metadata": {
        "colab": {
          "base_uri": "https://localhost:8080/"
        },
        "id": "exFV1NLRDVi9",
        "outputId": "b90ccc1a-0286-47ba-b66a-7bd42de20902"
      },
      "source": [
        "# Add in Set (Only one element can be added)\n",
        "S1.add(7)\n",
        "print(S1)"
      ],
      "execution_count": null,
      "outputs": [
        {
          "output_type": "stream",
          "text": [
            "{1, 2, 3, 4, 5, 6, 7, 'Hello', '20040', 'Age-24', 'Poddar'}\n"
          ],
          "name": "stdout"
        }
      ]
    },
    {
      "cell_type": "code",
      "metadata": {
        "colab": {
          "base_uri": "https://localhost:8080/"
        },
        "id": "A4nZ0gchD2Nj",
        "outputId": "40523fe2-f335-465e-aa13-c92c48731d22"
      },
      "source": [
        "# For addeding more then one element we can use update \n",
        "S1.update([\"Hello\",\"Pritam\",\"Poddar\",\"Age-24\",\"20040\"])\n",
        "print(S1)"
      ],
      "execution_count": null,
      "outputs": [
        {
          "output_type": "stream",
          "text": [
            "{1, 2, 3, 4, 5, 6, 7, 'Hello', '20040', 'Age-24', 'Poddar', 'Pritam'}\n"
          ],
          "name": "stdout"
        }
      ]
    },
    {
      "cell_type": "code",
      "metadata": {
        "colab": {
          "base_uri": "https://localhost:8080/"
        },
        "id": "CvXbWzcUEUSp",
        "outputId": "7ebe000e-3f32-4b4a-ebfc-0f8199ed5776"
      },
      "source": [
        "# Remove function is used to remove item from the Set\n",
        "S1.remove(\"Pritam\")\n",
        "print(S1)"
      ],
      "execution_count": null,
      "outputs": [
        {
          "output_type": "stream",
          "text": [
            "{1, 2, 3, 4, 5, 6, 7, 'Hello', '20040', 'Age-24', 'Poddar'}\n"
          ],
          "name": "stdout"
        }
      ]
    },
    {
      "cell_type": "code",
      "metadata": {
        "colab": {
          "base_uri": "https://localhost:8080/"
        },
        "id": "__cwjZrZGVcV",
        "outputId": "ff053e94-334d-44a9-bcca-24a2e57fc5fc"
      },
      "source": [
        "for Q in S1:\n",
        "  print(Q)"
      ],
      "execution_count": null,
      "outputs": [
        {
          "output_type": "stream",
          "text": [
            "1\n",
            "2\n",
            "3\n",
            "4\n",
            "5\n",
            "6\n",
            "7\n",
            "Hello\n",
            "20040\n",
            "Age-24\n",
            "Poddar\n"
          ],
          "name": "stdout"
        }
      ]
    },
    {
      "cell_type": "code",
      "metadata": {
        "id": "6GczFtylK8VG"
      },
      "source": [
        ""
      ],
      "execution_count": null,
      "outputs": []
    }
  ]
}