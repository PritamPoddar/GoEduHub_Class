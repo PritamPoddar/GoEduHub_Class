{
  "nbformat": 4,
  "nbformat_minor": 0,
  "metadata": {
    "colab": {
      "name": "GoEduHub_Class1",
      "provenance": [],
      "collapsed_sections": []
    },
    "kernelspec": {
      "name": "python3",
      "display_name": "Python 3"
    },
    "language_info": {
      "name": "python"
    }
  },
  "cells": [
    {
      "cell_type": "code",
      "metadata": {
        "id": "oLwnPo7T88J8"
      },
      "source": [
        "import numpy"
      ],
      "execution_count": null,
      "outputs": []
    },
    {
      "cell_type": "code",
      "metadata": {
        "colab": {
          "base_uri": "https://localhost:8080/"
        },
        "id": "n4z0xFfo9FV4",
        "outputId": "9a62779c-dba3-43c7-9208-335c8f540340"
      },
      "source": [
        "A = 10\n",
        "B = 20\n",
        "C = A + B\n",
        "print(C)"
      ],
      "execution_count": null,
      "outputs": [
        {
          "output_type": "stream",
          "text": [
            "30\n"
          ],
          "name": "stdout"
        }
      ]
    },
    {
      "cell_type": "code",
      "metadata": {
        "colab": {
          "base_uri": "https://localhost:8080/"
        },
        "id": "BoK4c4qW_Lhs",
        "outputId": "0335a13f-e5e6-4e08-811b-20c0bfd050f6"
      },
      "source": [
        "A = input(\"Enter a Number -\")\n",
        "print(A)"
      ],
      "execution_count": null,
      "outputs": [
        {
          "output_type": "stream",
          "text": [
            "Enter a Number -20\n",
            "20\n"
          ],
          "name": "stdout"
        }
      ]
    },
    {
      "cell_type": "code",
      "metadata": {
        "colab": {
          "base_uri": "https://localhost:8080/"
        },
        "id": "pKMVgL7s_dBb",
        "outputId": "976c7ae9-11a5-48a5-ba58-f352d65ba1be"
      },
      "source": [
        "print(type(A))"
      ],
      "execution_count": null,
      "outputs": [
        {
          "output_type": "stream",
          "text": [
            "<class 'str'>\n"
          ],
          "name": "stdout"
        }
      ]
    },
    {
      "cell_type": "code",
      "metadata": {
        "colab": {
          "base_uri": "https://localhost:8080/"
        },
        "id": "ODU6TxPt_uz5",
        "outputId": "4621af0c-a028-4f3d-e5ed-150e8acddfb2"
      },
      "source": [
        "A = int(input(\"Enter a Number -\"))\n",
        "B = int(input(\"Enter a Number -\"))\n",
        "C = A+B\n",
        "print(\"Total -\",C)"
      ],
      "execution_count": null,
      "outputs": [
        {
          "output_type": "stream",
          "text": [
            "Enter a Number -20\n",
            "Enter a Number -40\n",
            "Total - 60\n"
          ],
          "name": "stdout"
        }
      ]
    },
    {
      "cell_type": "code",
      "metadata": {
        "colab": {
          "base_uri": "https://localhost:8080/"
        },
        "id": "MheOdaB7ARzf",
        "outputId": "8aeb6b11-1463-4a5c-f05c-3af14c332274"
      },
      "source": [
        "A = 10\n",
        "B = \"GoEduHub\"\n",
        "print(A,B)"
      ],
      "execution_count": null,
      "outputs": [
        {
          "output_type": "stream",
          "text": [
            "10 GoEduHub\n"
          ],
          "name": "stdout"
        }
      ]
    },
    {
      "cell_type": "code",
      "metadata": {
        "colab": {
          "base_uri": "https://localhost:8080/"
        },
        "id": "q2TtKzYgDHMR",
        "outputId": "f770031d-b880-44e7-8e9a-2edd74fd3987"
      },
      "source": [
        "X=Y=Z=10\n",
        "print(X)\n",
        "print(Y)\n",
        "print(Z)"
      ],
      "execution_count": null,
      "outputs": [
        {
          "output_type": "stream",
          "text": [
            "10\n",
            "10\n",
            "10\n"
          ],
          "name": "stdout"
        }
      ]
    },
    {
      "cell_type": "code",
      "metadata": {
        "colab": {
          "base_uri": "https://localhost:8080/"
        },
        "id": "-YCXqwLnDX_D",
        "outputId": "8d14b165-79dd-4313-fcbd-e037b999ee2f"
      },
      "source": [
        "A = int(input(\"Enter a Number -\"))\n",
        "B = int(input(\"Enter a number -\"))\n",
        "if A == B:\n",
        "  print(\"Equal\")\n",
        "else:\n",
        "  print(\"Not Equal\")"
      ],
      "execution_count": null,
      "outputs": [
        {
          "output_type": "stream",
          "text": [
            "Enter a Number -20\n",
            "Enter a number -20\n",
            "Equal\n"
          ],
          "name": "stdout"
        }
      ]
    },
    {
      "cell_type": "code",
      "metadata": {
        "id": "aloe8e1SEbK_"
      },
      "source": [
        ""
      ],
      "execution_count": null,
      "outputs": []
    }
  ]
}