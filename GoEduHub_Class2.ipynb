{
  "nbformat": 4,
  "nbformat_minor": 0,
  "metadata": {
    "colab": {
      "name": "GoEduHub_Class2",
      "provenance": [],
      "collapsed_sections": []
    },
    "kernelspec": {
      "name": "python3",
      "display_name": "Python 3"
    },
    "language_info": {
      "name": "python"
    }
  },
  "cells": [
    {
      "cell_type": "markdown",
      "metadata": {
        "id": "bbe7p2jn8TMq"
      },
      "source": [
        "# Dara Type"
      ]
    },
    {
      "cell_type": "markdown",
      "metadata": {
        "id": "5KUyjonJ8c-2"
      },
      "source": [
        "## Sequence Data type Strings "
      ]
    },
    {
      "cell_type": "code",
      "metadata": {
        "colab": {
          "base_uri": "https://localhost:8080/"
        },
        "id": "iu1Env3x8nS_",
        "outputId": "5ea27b2e-2b60-4b3a-f8ea-0fc1ee7e9b0f"
      },
      "source": [
        "S = \"GoEduHub\"\n",
        "print(S)"
      ],
      "execution_count": null,
      "outputs": [
        {
          "output_type": "stream",
          "text": [
            "GoEduHub\n"
          ],
          "name": "stdout"
        }
      ]
    },
    {
      "cell_type": "code",
      "metadata": {
        "colab": {
          "base_uri": "https://localhost:8080/"
        },
        "id": "VkdgwWXo8vhI",
        "outputId": "decb711d-52f6-45d0-c9d4-b51d22f13a83"
      },
      "source": [
        "S = \"Welcome to GoEduHub\"\n",
        "print(S)\n",
        "print(S[0])\n",
        "print(S[1])\n",
        "print(S[2])\n",
        "print(S[3])\n",
        "print(S[-5])\n",
        "print(S[8:10])\n",
        "print(S[3:8])\n",
        "print(S[:7])\n",
        "print(S[8:])\n",
        "print(S[1:8:2])"
      ],
      "execution_count": null,
      "outputs": [
        {
          "output_type": "stream",
          "text": [
            "Welcome to GoEduHub\n",
            "W\n",
            "e\n",
            "l\n",
            "c\n",
            "d\n",
            "to\n",
            "come \n",
            "Welcome\n",
            "to GoEduHub\n",
            "ecm \n"
          ],
          "name": "stdout"
        }
      ]
    },
    {
      "cell_type": "code",
      "metadata": {
        "colab": {
          "base_uri": "https://localhost:8080/"
        },
        "id": "CaYqnZ_q89cD",
        "outputId": "ab658bda-570c-42fc-b02c-b0590dcb43d5"
      },
      "source": [
        "print(S)\n",
        "print(S[::-1]) #Reverse of whole string \n",
        "print(S[-1:-4:-1]) # Reverse a part of a string"
      ],
      "execution_count": null,
      "outputs": [
        {
          "output_type": "stream",
          "text": [
            "Welcome to GoEduHub\n",
            "buHudEoG ot emocleW\n",
            "buH\n"
          ],
          "name": "stdout"
        }
      ]
    },
    {
      "cell_type": "markdown",
      "metadata": {
        "id": "i2pl_6WXBcZ4"
      },
      "source": [
        "## String Function italicized text"
      ]
    },
    {
      "cell_type": "code",
      "metadata": {
        "colab": {
          "base_uri": "https://localhost:8080/"
        },
        "id": "e-XT9GHLBmEw",
        "outputId": "e36a32fd-e876-4fdb-ad37-9169d2d878bf"
      },
      "source": [
        "S = \"Hello GoEduHub\"\n",
        "len(S)"
      ],
      "execution_count": null,
      "outputs": [
        {
          "output_type": "execute_result",
          "data": {
            "text/plain": [
              "14"
            ]
          },
          "metadata": {
            "tags": []
          },
          "execution_count": 32
        }
      ]
    },
    {
      "cell_type": "code",
      "metadata": {
        "colab": {
          "base_uri": "https://localhost:8080/",
          "height": 36
        },
        "id": "Vy7RKeoQCKoR",
        "outputId": "60644f86-7e02-4dac-d60b-445493e5fa47"
      },
      "source": [
        "S.upper()"
      ],
      "execution_count": null,
      "outputs": [
        {
          "output_type": "execute_result",
          "data": {
            "application/vnd.google.colaboratory.intrinsic+json": {
              "type": "string"
            },
            "text/plain": [
              "'HELLO GOEDUHUB'"
            ]
          },
          "metadata": {
            "tags": []
          },
          "execution_count": 34
        }
      ]
    },
    {
      "cell_type": "code",
      "metadata": {
        "colab": {
          "base_uri": "https://localhost:8080/"
        },
        "id": "kXGTjKDkCRz-",
        "outputId": "963940e3-28f7-4fe6-8d80-58f513f7fe96"
      },
      "source": [
        "S = \"Hello\"\n",
        "S1 = \"GoEduHub\"\n",
        "S2 = S +\" \"+ S1\n",
        "print(S2)\n",
        "print(S*2)\n",
        "print(\"Z\" in S)\n",
        "print(\"o\" in S)"
      ],
      "execution_count": null,
      "outputs": [
        {
          "output_type": "stream",
          "text": [
            "Hello GoEduHub\n",
            "HelloHello\n",
            "False\n",
            "True\n"
          ],
          "name": "stdout"
        }
      ]
    },
    {
      "cell_type": "markdown",
      "metadata": {
        "id": "nbuH1kxXEsIQ"
      },
      "source": [
        "## IF Condition"
      ]
    },
    {
      "cell_type": "code",
      "metadata": {
        "colab": {
          "base_uri": "https://localhost:8080/"
        },
        "id": "h2xq2cWMExLR",
        "outputId": "53035d29-2310-402c-9915-a5c715268b57"
      },
      "source": [
        "# Largerst of 3 Number\n",
        "A = int(input(\"Enter a Number - \"))\n",
        "B = int(input(\"Enter a Number - \"))\n",
        "C = int(input(\"Enter a Number - \"))\n",
        "if A > B and A > C:\n",
        "  print(\"A is Largest\")\n",
        "  print(\"Number is \",A)\n",
        "if B > A and B > C:\n",
        "  print(\"B is Largest\")\n",
        "  print(\"Number is \",B)\n",
        "if C > A and C > B:\n",
        "  print(\"C is Largest\")\n",
        "  print(\"Number is \",C)\n",
        "if A == B == C:\n",
        "  print(\"All numbers are Equal\")"
      ],
      "execution_count": null,
      "outputs": [
        {
          "output_type": "stream",
          "text": [
            "Enter a Number - 20\n",
            "Enter a Number - 40\n",
            "Enter a Number - 20\n",
            "B is Largest\n",
            "Number is  40\n"
          ],
          "name": "stdout"
        }
      ]
    },
    {
      "cell_type": "code",
      "metadata": {
        "colab": {
          "base_uri": "https://localhost:8080/"
        },
        "id": "Vf07joU3G4qH",
        "outputId": "f1fed55c-8ed9-4e08-d678-a8b0194fdff7"
      },
      "source": [
        "A = int(input(\"Enter Your Age - \"))\n",
        "if A >= 18:\n",
        "  print(\"You are Eligible for Vac\")\n",
        "else:\n",
        "  print(\"You are not Eligible\")"
      ],
      "execution_count": null,
      "outputs": [
        {
          "output_type": "stream",
          "text": [
            "Enter Your Age - 22\n",
            "You are Eligible for Vac\n"
          ],
          "name": "stdout"
        }
      ]
    },
    {
      "cell_type": "code",
      "metadata": {
        "id": "1decLSyeHC7A"
      },
      "source": [
        ""
      ],
      "execution_count": null,
      "outputs": []
    },
    {
      "cell_type": "markdown",
      "metadata": {
        "id": "vGKOB03CIXp6"
      },
      "source": [
        "## Loops"
      ]
    },
    {
      "cell_type": "markdown",
      "metadata": {
        "id": "0bZL4F4jys-2"
      },
      "source": [
        "### For Loop"
      ]
    },
    {
      "cell_type": "code",
      "metadata": {
        "colab": {
          "base_uri": "https://localhost:8080/"
        },
        "id": "H73pK-o0IcHU",
        "outputId": "4c13e82b-66b7-4d71-9858-4bb5bfe33e6a"
      },
      "source": [
        "# For Loop\n",
        "\n",
        "S = \"Hello\"\n",
        "for I in S:\n",
        "  print(I)"
      ],
      "execution_count": null,
      "outputs": [
        {
          "output_type": "stream",
          "text": [
            "H\n",
            "e\n",
            "l\n",
            "l\n",
            "o\n"
          ],
          "name": "stdout"
        }
      ]
    },
    {
      "cell_type": "code",
      "metadata": {
        "colab": {
          "base_uri": "https://localhost:8080/"
        },
        "id": "C5gpLPnVJbUV",
        "outputId": "7287c2fd-7637-4900-be6f-c6b34028ef36"
      },
      "source": [
        "S1 = [10,20,30]\n",
        "for Z in S1:\n",
        "  print(Z)"
      ],
      "execution_count": null,
      "outputs": [
        {
          "output_type": "stream",
          "text": [
            "10\n",
            "20\n",
            "30\n"
          ],
          "name": "stdout"
        }
      ]
    },
    {
      "cell_type": "code",
      "metadata": {
        "colab": {
          "base_uri": "https://localhost:8080/"
        },
        "id": "yAkLmR1EKxlw",
        "outputId": "f9e18d1b-be9c-4fae-ea04-fc0c84166932"
      },
      "source": [
        "for I in range(5):\n",
        "  print(I)"
      ],
      "execution_count": null,
      "outputs": [
        {
          "output_type": "stream",
          "text": [
            "0\n",
            "1\n",
            "2\n",
            "3\n",
            "4\n"
          ],
          "name": "stdout"
        }
      ]
    },
    {
      "cell_type": "code",
      "metadata": {
        "colab": {
          "base_uri": "https://localhost:8080/"
        },
        "id": "YJ17g1o5n6sA",
        "outputId": "9dd799d8-c6f3-4c28-d5de-77db4c14e1aa"
      },
      "source": [
        "X = input(\"Enter Name - \")\n",
        "for I in X:\n",
        "  print(I)"
      ],
      "execution_count": null,
      "outputs": [
        {
          "output_type": "stream",
          "text": [
            "Enter Name - Pritam\n",
            "P\n",
            "r\n",
            "i\n",
            "t\n",
            "a\n",
            "m\n"
          ],
          "name": "stdout"
        }
      ]
    },
    {
      "cell_type": "code",
      "metadata": {
        "colab": {
          "base_uri": "https://localhost:8080/"
        },
        "id": "jnmnftToKyhI",
        "outputId": "9c67a9ae-5e05-468b-ce50-3a8c54a8c0d3"
      },
      "source": [
        "# Multiple or Table\n",
        "X = int(input(\"Enter a Number - \"))\n",
        "for I in range(1,11):  # Start, Stop\n",
        "  print(X,\" * \",I,\" = \",(X*I))"
      ],
      "execution_count": null,
      "outputs": [
        {
          "output_type": "stream",
          "text": [
            "Enter a Number - 4\n",
            "4  *  1  =  4\n",
            "4  *  2  =  8\n",
            "4  *  3  =  12\n",
            "4  *  4  =  16\n",
            "4  *  5  =  20\n",
            "4  *  6  =  24\n",
            "4  *  7  =  28\n",
            "4  *  8  =  32\n",
            "4  *  9  =  36\n",
            "4  *  10  =  40\n"
          ],
          "name": "stdout"
        }
      ]
    },
    {
      "cell_type": "code",
      "metadata": {
        "colab": {
          "base_uri": "https://localhost:8080/"
        },
        "id": "GSdfA7k8r1gi",
        "outputId": "8b946eb0-cc79-4438-ab72-e5e33097cb41"
      },
      "source": [
        "# Star Pattern\n",
        "R = int(input(\"Enter Number of Rows - \"))\n",
        "for I in range(0,R):\n",
        "  for J in range(I):\n",
        "    print(\"*\", end = \"\")\n",
        "  print()"
      ],
      "execution_count": null,
      "outputs": [
        {
          "output_type": "stream",
          "text": [
            "Enter Number of Rows - 8\n",
            "\n",
            "*\n",
            "**\n",
            "***\n",
            "****\n",
            "*****\n",
            "******\n",
            "*******\n"
          ],
          "name": "stdout"
        }
      ]
    },
    {
      "cell_type": "code",
      "metadata": {
        "colab": {
          "base_uri": "https://localhost:8080/"
        },
        "id": "yWtCWNHPuEKo",
        "outputId": "c54ec3f0-058e-4be0-f96d-ca769be13da1"
      },
      "source": [
        "for I in range(6,0,-1):\n",
        "  print(I)"
      ],
      "execution_count": null,
      "outputs": [
        {
          "output_type": "stream",
          "text": [
            "6\n",
            "5\n",
            "4\n",
            "3\n",
            "2\n",
            "1\n"
          ],
          "name": "stdout"
        }
      ]
    },
    {
      "cell_type": "markdown",
      "metadata": {
        "id": "7XfQmWRCyiuI"
      },
      "source": [
        "Condition is Loop"
      ]
    },
    {
      "cell_type": "code",
      "metadata": {
        "colab": {
          "base_uri": "https://localhost:8080/"
        },
        "id": "PQfP23j4v8yI",
        "outputId": "a95bc685-3ee8-4f2b-ec8b-75e3bc6c97a7"
      },
      "source": [
        "# Break Statement/ Break the Loop\n",
        "for I in range(1,10):\n",
        "  print(I)\n",
        "  if(I == 6):\n",
        "    break"
      ],
      "execution_count": null,
      "outputs": [
        {
          "output_type": "stream",
          "text": [
            "1\n",
            "2\n",
            "3\n",
            "4\n",
            "5\n",
            "6\n"
          ],
          "name": "stdout"
        }
      ]
    },
    {
      "cell_type": "code",
      "metadata": {
        "colab": {
          "base_uri": "https://localhost:8080/"
        },
        "id": "qLLU1Ec5w164",
        "outputId": "c9a8a45c-7f13-4917-f2dc-ab78ea49c9da"
      },
      "source": [
        "# Continue Statement\n",
        "for I in range(1,11):\n",
        "  if(I == 6):\n",
        "    continue\n",
        "  print(I)"
      ],
      "execution_count": null,
      "outputs": [
        {
          "output_type": "stream",
          "text": [
            "1\n",
            "2\n",
            "3\n",
            "4\n",
            "5\n",
            "7\n",
            "8\n",
            "9\n",
            "10\n"
          ],
          "name": "stdout"
        }
      ]
    },
    {
      "cell_type": "code",
      "metadata": {
        "colab": {
          "base_uri": "https://localhost:8080/"
        },
        "id": "cSMawZr7z1LK",
        "outputId": "756d616c-6cab-49e5-f578-cb1f235fbfac"
      },
      "source": [
        "X = [1,2,3,4,5,6,7,8,9,10,11,12,13,14,15,16]\n",
        "for I in X:\n",
        "  if I % 2 == 0:\n",
        "    print(\"G\")\n",
        "  else:\n",
        "    print(\"N\")"
      ],
      "execution_count": null,
      "outputs": [
        {
          "output_type": "stream",
          "text": [
            "N\n",
            "G\n",
            "N\n",
            "G\n",
            "N\n",
            "G\n",
            "N\n",
            "G\n",
            "N\n",
            "G\n",
            "N\n",
            "G\n",
            "N\n",
            "G\n",
            "N\n",
            "G\n"
          ],
          "name": "stdout"
        }
      ]
    },
    {
      "cell_type": "code",
      "metadata": {
        "colab": {
          "base_uri": "https://localhost:8080/"
        },
        "id": "7XiMBCK01TlL",
        "outputId": "b6ce039c-de00-41b8-acc2-b698fed4805f"
      },
      "source": [
        "# Pass Statement \n",
        "X = [1,2,3,4,5,6,7,8,9,10,11,12,13,14,15,16]\n",
        "for I in X:\n",
        "  if I % 2 == 0:\n",
        "    pass\n",
        "#    print(\"G\")\n",
        "  else:\n",
        "    print(I)\n",
        "#    print(\"N\")"
      ],
      "execution_count": null,
      "outputs": [
        {
          "output_type": "stream",
          "text": [
            "1\n",
            "3\n",
            "5\n",
            "7\n",
            "9\n",
            "11\n",
            "13\n",
            "15\n"
          ],
          "name": "stdout"
        }
      ]
    },
    {
      "cell_type": "code",
      "metadata": {
        "colab": {
          "base_uri": "https://localhost:8080/"
        },
        "id": "oITR9E7z1eHh",
        "outputId": "75b41b6a-1aae-47c1-ce53-4ef6922190dc"
      },
      "source": [
        "# Pass Statement, continue Statement and Break Statement \n",
        "X = [1,2,3,4,5,6,7,8,9,10,11,12,13,14,15,16]\n",
        "for I in X:\n",
        "  if I == 3:\n",
        "    continue\n",
        "  if I % 2 == 0:\n",
        "    pass\n",
        "#    print(\"G\")\n",
        "  else:\n",
        "    print(I)\n",
        "#    print(\"N\")\n",
        "  if I == 9:\n",
        "    break "
      ],
      "execution_count": null,
      "outputs": [
        {
          "output_type": "stream",
          "text": [
            "1\n",
            "5\n",
            "7\n",
            "9\n"
          ],
          "name": "stdout"
        }
      ]
    },
    {
      "cell_type": "markdown",
      "metadata": {
        "id": "vuHXMJAR2vkM"
      },
      "source": [
        "## While Loop"
      ]
    },
    {
      "cell_type": "code",
      "metadata": {
        "colab": {
          "base_uri": "https://localhost:8080/"
        },
        "id": "jHFVW1VS2r-V",
        "outputId": "6e0b65b6-40ef-48a2-bc97-00ce2240819a"
      },
      "source": [
        "I = 0\n",
        "X = \"GoEduHub\"\n",
        "while I < len(X):\n",
        "  print(I)\n",
        "  I = I + 1"
      ],
      "execution_count": null,
      "outputs": [
        {
          "output_type": "stream",
          "text": [
            "0\n",
            "1\n",
            "2\n",
            "3\n",
            "4\n",
            "5\n",
            "6\n",
            "7\n"
          ],
          "name": "stdout"
        }
      ]
    },
    {
      "cell_type": "code",
      "metadata": {
        "colab": {
          "base_uri": "https://localhost:8080/"
        },
        "id": "nfuKJ3TE5HUx",
        "outputId": "e989f814-1ee6-400d-a2c2-43c2fe967acb"
      },
      "source": [
        "# Break Statement\n",
        "I = 0\n",
        "X = \"GoEduHub\"\n",
        "while I < len(X):\n",
        "  if X[I] == \"H\":\n",
        "    break\n",
        "  print(I)\n",
        "  I = I+1"
      ],
      "execution_count": null,
      "outputs": [
        {
          "output_type": "stream",
          "text": [
            "0\n",
            "1\n",
            "2\n",
            "3\n",
            "4\n"
          ],
          "name": "stdout"
        }
      ]
    },
    {
      "cell_type": "code",
      "metadata": {
        "colab": {
          "base_uri": "https://localhost:8080/"
        },
        "id": "J-zfpL0I55s8",
        "outputId": "ec3bf05d-1730-42f4-9027-0266c46fb0f8"
      },
      "source": [
        "M = 1\n",
        "N = 2\n",
        "while M <= 10:\n",
        "  print(N,\"*\",M,\"=\",N*M)\n",
        "  M = M+1"
      ],
      "execution_count": null,
      "outputs": [
        {
          "output_type": "stream",
          "text": [
            "2 * 1 = 2\n",
            "2 * 2 = 4\n",
            "2 * 3 = 6\n",
            "2 * 4 = 8\n",
            "2 * 5 = 10\n",
            "2 * 6 = 12\n",
            "2 * 7 = 14\n",
            "2 * 8 = 16\n",
            "2 * 9 = 18\n",
            "2 * 10 = 20\n"
          ],
          "name": "stdout"
        }
      ]
    }
  ]
}