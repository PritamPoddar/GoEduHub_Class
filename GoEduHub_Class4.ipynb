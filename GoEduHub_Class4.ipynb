{
  "nbformat": 4,
  "nbformat_minor": 0,
  "metadata": {
    "colab": {
      "name": "GoEduHub_Class4",
      "provenance": [],
      "collapsed_sections": []
    },
    "kernelspec": {
      "name": "python3",
      "display_name": "Python 3"
    },
    "language_info": {
      "name": "python"
    }
  },
  "cells": [
    {
      "cell_type": "markdown",
      "metadata": {
        "id": "F60JnKYirxC_"
      },
      "source": [
        "# Numpy\n",
        "Numerical Python"
      ]
    },
    {
      "cell_type": "markdown",
      "metadata": {
        "id": "JQXnz3c5sTI0"
      },
      "source": [
        "### **How to install Numpy**"
      ]
    },
    {
      "cell_type": "code",
      "metadata": {
        "colab": {
          "base_uri": "https://localhost:8080/"
        },
        "id": "pIZYoMmjr2gT",
        "outputId": "4277cd3a-6604-4f2e-caf3-eb7cac62e782"
      },
      "source": [
        "pip install numpy"
      ],
      "execution_count": null,
      "outputs": [
        {
          "output_type": "stream",
          "text": [
            "Requirement already satisfied: numpy in /usr/local/lib/python3.7/dist-packages (1.19.5)\n"
          ],
          "name": "stdout"
        }
      ]
    },
    {
      "cell_type": "markdown",
      "metadata": {
        "id": "ls-Rsz0ksmux"
      },
      "source": [
        "**Install Numpy**"
      ]
    },
    {
      "cell_type": "code",
      "metadata": {
        "id": "stq_XGQAsYz3"
      },
      "source": [
        "import numpy as NP"
      ],
      "execution_count": null,
      "outputs": []
    },
    {
      "cell_type": "markdown",
      "metadata": {
        "id": "h23IaaKksyea"
      },
      "source": [
        "**Creat 1D array**"
      ]
    },
    {
      "cell_type": "code",
      "metadata": {
        "colab": {
          "base_uri": "https://localhost:8080/"
        },
        "id": "a6izcddwsvg7",
        "outputId": "f8cddeda-ea87-43b2-8620-8671cd38f7ce"
      },
      "source": [
        "A = NP.array([1,2,3])\n",
        "print(A)\n",
        "print(type(A))"
      ],
      "execution_count": null,
      "outputs": [
        {
          "output_type": "stream",
          "text": [
            "[1 2 3]\n",
            "<class 'numpy.ndarray'>\n"
          ],
          "name": "stdout"
        }
      ]
    },
    {
      "cell_type": "markdown",
      "metadata": {
        "id": "2fAVmIz_tjGN"
      },
      "source": [
        "**2D Array**"
      ]
    },
    {
      "cell_type": "code",
      "metadata": {
        "colab": {
          "base_uri": "https://localhost:8080/"
        },
        "id": "5PkeaJkmtmyK",
        "outputId": "462dfb79-dc6e-47e1-b65b-184b2ce8e29d"
      },
      "source": [
        "A = NP.array([[1,2,3],[10,20,30]])\n",
        "print(A)\n",
        "print(type(A))"
      ],
      "execution_count": null,
      "outputs": [
        {
          "output_type": "stream",
          "text": [
            "[[ 1  2  3]\n",
            " [10 20 30]]\n",
            "<class 'numpy.ndarray'>\n"
          ],
          "name": "stdout"
        }
      ]
    },
    {
      "cell_type": "code",
      "metadata": {
        "colab": {
          "base_uri": "https://localhost:8080/"
        },
        "id": "R6nJ0BAYt9It",
        "outputId": "e8d1a1f2-aa57-4738-961d-39219e1c6191"
      },
      "source": [
        "NP.zeros((2,3))  # 2 Rows and 3 coloum"
      ],
      "execution_count": null,
      "outputs": [
        {
          "output_type": "execute_result",
          "data": {
            "text/plain": [
              "array([[0., 0., 0.],\n",
              "       [0., 0., 0.]])"
            ]
          },
          "metadata": {
            "tags": []
          },
          "execution_count": 11
        }
      ]
    },
    {
      "cell_type": "code",
      "metadata": {
        "colab": {
          "base_uri": "https://localhost:8080/"
        },
        "id": "qt8zuw80ZWCz",
        "outputId": "dac38ab2-e472-476b-f08b-53c666217a29"
      },
      "source": [
        "NP.zeros((5,4))"
      ],
      "execution_count": null,
      "outputs": [
        {
          "output_type": "execute_result",
          "data": {
            "text/plain": [
              "array([[0., 0., 0., 0.],\n",
              "       [0., 0., 0., 0.],\n",
              "       [0., 0., 0., 0.],\n",
              "       [0., 0., 0., 0.],\n",
              "       [0., 0., 0., 0.]])"
            ]
          },
          "metadata": {
            "tags": []
          },
          "execution_count": 2
        }
      ]
    },
    {
      "cell_type": "code",
      "metadata": {
        "colab": {
          "base_uri": "https://localhost:8080/"
        },
        "id": "KSMrZwaduPGW",
        "outputId": "24e97700-886a-4164-bb13-7c08fe26c113"
      },
      "source": [
        "NP.arange(20)"
      ],
      "execution_count": null,
      "outputs": [
        {
          "output_type": "execute_result",
          "data": {
            "text/plain": [
              "array([ 0,  1,  2,  3,  4,  5,  6,  7,  8,  9, 10, 11, 12, 13, 14, 15, 16,\n",
              "       17, 18, 19])"
            ]
          },
          "metadata": {
            "tags": []
          },
          "execution_count": 15
        }
      ]
    },
    {
      "cell_type": "code",
      "metadata": {
        "colab": {
          "base_uri": "https://localhost:8080/"
        },
        "id": "QvkGDJ2kvjYD",
        "outputId": "e6eb9ec1-6724-4dc6-c019-14a795902b49"
      },
      "source": [
        "NP.arange(1,15,2)"
      ],
      "execution_count": null,
      "outputs": [
        {
          "output_type": "execute_result",
          "data": {
            "text/plain": [
              "array([ 1,  3,  5,  7,  9, 11, 13])"
            ]
          },
          "metadata": {
            "tags": []
          },
          "execution_count": 26
        }
      ]
    },
    {
      "cell_type": "code",
      "metadata": {
        "colab": {
          "base_uri": "https://localhost:8080/"
        },
        "id": "SvWo6wTlZnZs",
        "outputId": "4b7bb8c0-6436-44d3-9410-7c8b78390639"
      },
      "source": [
        "NP.arange(10,21)"
      ],
      "execution_count": null,
      "outputs": [
        {
          "output_type": "execute_result",
          "data": {
            "text/plain": [
              "array([10, 11, 12, 13, 14, 15, 16, 17, 18, 19, 20])"
            ]
          },
          "metadata": {
            "tags": []
          },
          "execution_count": 7
        }
      ]
    },
    {
      "cell_type": "code",
      "metadata": {
        "colab": {
          "base_uri": "https://localhost:8080/"
        },
        "id": "qdtjPL_Luh8D",
        "outputId": "32dcc424-21bb-4414-d690-97eb3426f108"
      },
      "source": [
        "NP.arange(1,5,0.5)"
      ],
      "execution_count": null,
      "outputs": [
        {
          "output_type": "execute_result",
          "data": {
            "text/plain": [
              "array([1. , 1.5, 2. , 2.5, 3. , 3.5, 4. , 4.5])"
            ]
          },
          "metadata": {
            "tags": []
          },
          "execution_count": 17
        }
      ]
    },
    {
      "cell_type": "code",
      "metadata": {
        "colab": {
          "base_uri": "https://localhost:8080/"
        },
        "id": "hFJOhDBiv18h",
        "outputId": "59ac7783-576c-4551-fd59-731cdc2d42d9"
      },
      "source": [
        "NP.linspace(1,4,6)"
      ],
      "execution_count": null,
      "outputs": [
        {
          "output_type": "execute_result",
          "data": {
            "text/plain": [
              "array([1. , 1.6, 2.2, 2.8, 3.4, 4. ])"
            ]
          },
          "metadata": {
            "tags": []
          },
          "execution_count": 20
        }
      ]
    },
    {
      "cell_type": "code",
      "metadata": {
        "colab": {
          "base_uri": "https://localhost:8080/"
        },
        "id": "D9RAuudzvX1-",
        "outputId": "07dc8230-0a4e-415c-95bc-b4e2fcfed31c"
      },
      "source": [
        "NP.indices((2,2))"
      ],
      "execution_count": null,
      "outputs": [
        {
          "output_type": "execute_result",
          "data": {
            "text/plain": [
              "array([[[0, 0],\n",
              "        [1, 1]],\n",
              "\n",
              "       [[0, 1],\n",
              "        [0, 1]]])"
            ]
          },
          "metadata": {
            "tags": []
          },
          "execution_count": 18
        }
      ]
    },
    {
      "cell_type": "code",
      "metadata": {
        "colab": {
          "base_uri": "https://localhost:8080/"
        },
        "id": "p8MPb8Hxaats",
        "outputId": "56533ac0-bd24-4b61-a81b-99d004a02bc1"
      },
      "source": [
        "NP.indices((4,4))"
      ],
      "execution_count": null,
      "outputs": [
        {
          "output_type": "execute_result",
          "data": {
            "text/plain": [
              "array([[[0, 0, 0, 0],\n",
              "        [1, 1, 1, 1],\n",
              "        [2, 2, 2, 2],\n",
              "        [3, 3, 3, 3]],\n",
              "\n",
              "       [[0, 1, 2, 3],\n",
              "        [0, 1, 2, 3],\n",
              "        [0, 1, 2, 3],\n",
              "        [0, 1, 2, 3]]])"
            ]
          },
          "metadata": {
            "tags": []
          },
          "execution_count": 8
        }
      ]
    },
    {
      "cell_type": "code",
      "metadata": {
        "colab": {
          "base_uri": "https://localhost:8080/"
        },
        "id": "ZWTJyWdzvt7x",
        "outputId": "35969a40-23ae-45c4-b4c2-52f8884d6c21"
      },
      "source": [
        "NP.indices((3,3))"
      ],
      "execution_count": null,
      "outputs": [
        {
          "output_type": "execute_result",
          "data": {
            "text/plain": [
              "array([[[0, 0, 0],\n",
              "        [1, 1, 1],\n",
              "        [2, 2, 2]],\n",
              "\n",
              "       [[0, 1, 2],\n",
              "        [0, 1, 2],\n",
              "        [0, 1, 2]]])"
            ]
          },
          "metadata": {
            "tags": []
          },
          "execution_count": 21
        }
      ]
    },
    {
      "cell_type": "code",
      "metadata": {
        "colab": {
          "base_uri": "https://localhost:8080/"
        },
        "id": "gk1wUg_CwKBo",
        "outputId": "5a1b6301-ab3f-4df9-e95b-4a808242a621"
      },
      "source": [
        "A = NP.array([1,2,3])\n",
        "print(A)\n",
        "print(A.dtype)\n",
        "print(type(A))"
      ],
      "execution_count": null,
      "outputs": [
        {
          "output_type": "stream",
          "text": [
            "[1 2 3]\n",
            "int64\n",
            "<class 'numpy.ndarray'>\n"
          ],
          "name": "stdout"
        }
      ]
    },
    {
      "cell_type": "markdown",
      "metadata": {
        "id": "X8kGoYrYbOmb"
      },
      "source": [
        "**Difference Between Numpy and List**"
      ]
    },
    {
      "cell_type": "code",
      "metadata": {
        "colab": {
          "base_uri": "https://localhost:8080/"
        },
        "id": "rNdfsoXBbjW0",
        "outputId": "7a863d33-ce01-4bb7-d743-053f315c2048"
      },
      "source": [
        "import numpy as NP\n",
        "\n",
        "# List\n",
        "L = range(1000)\n",
        "\n",
        "import sys\n",
        "\n",
        "A =1\n",
        "\n",
        "print(sys.getsizeof(A))  # To know memory allocated to A\n",
        "print(\"List Size - \",sys.getsizeof(A)* len(L))\n",
        "\n",
        "# Numpy\n",
        "N = NP.arange(1000)\n",
        "print(\"Numpy Size - \",N.size * N.itemsize)"
      ],
      "execution_count": null,
      "outputs": [
        {
          "output_type": "stream",
          "text": [
            "28\n",
            "List Size -  28000\n",
            "Numpy Size -  8000\n"
          ],
          "name": "stdout"
        }
      ]
    },
    {
      "cell_type": "markdown",
      "metadata": {
        "id": "DJRggj1Jemkb"
      },
      "source": [
        "**Numpy Operations**"
      ]
    },
    {
      "cell_type": "code",
      "metadata": {
        "colab": {
          "base_uri": "https://localhost:8080/"
        },
        "id": "_mN19rzQcjiA",
        "outputId": "8658d0fb-03cc-419b-c1d1-c99d29b25e55"
      },
      "source": [
        "A =NP.array([[1,2,3],[10,20,30]])\n",
        "print(A)\n",
        "print(A.ndim)  #ndim -->  Number  of Dimentions\n",
        "print(A.itemsize)  # itemsize is use to know the size of rray\n",
        "print(A.size)  # Size Function is used to know the Size of the Array"
      ],
      "execution_count": null,
      "outputs": [
        {
          "output_type": "stream",
          "text": [
            "[[ 1  2  3]\n",
            " [10 20 30]]\n",
            "2\n",
            "8\n",
            "6\n"
          ],
          "name": "stdout"
        }
      ]
    },
    {
      "cell_type": "markdown",
      "metadata": {
        "id": "BDQcOogzftbc"
      },
      "source": [
        "#### **Rehape** \n",
        "When u want to change the number of Rows and Column"
      ]
    },
    {
      "cell_type": "code",
      "metadata": {
        "colab": {
          "base_uri": "https://localhost:8080/"
        },
        "id": "rCMgIx_Df6lt",
        "outputId": "04e14e3b-e450-4bc2-b13d-1bba5dac88a9"
      },
      "source": [
        "import numpy as NP\n",
        "B = NP.array([[1,2,3],[10,20,30]])\n",
        "print(B)"
      ],
      "execution_count": null,
      "outputs": [
        {
          "output_type": "stream",
          "text": [
            "[[ 1  2  3]\n",
            " [10 20 30]]\n"
          ],
          "name": "stdout"
        }
      ]
    },
    {
      "cell_type": "code",
      "metadata": {
        "id": "mucr_vgB_x5-",
        "colab": {
          "base_uri": "https://localhost:8080/"
        },
        "outputId": "b76cbe5c-7850-4576-be90-43f969d806ad"
      },
      "source": [
        "B.reshape(3,2)"
      ],
      "execution_count": null,
      "outputs": [
        {
          "output_type": "execute_result",
          "data": {
            "text/plain": [
              "array([[ 1,  2],\n",
              "       [ 3, 10],\n",
              "       [20, 30]])"
            ]
          },
          "metadata": {
            "tags": []
          },
          "execution_count": 44
        }
      ]
    },
    {
      "cell_type": "markdown",
      "metadata": {
        "id": "GJVQ2qC_A-Ci"
      },
      "source": [
        "### **Slicing**"
      ]
    },
    {
      "cell_type": "code",
      "metadata": {
        "colab": {
          "base_uri": "https://localhost:8080/"
        },
        "id": "qdzPyTpOAGbC",
        "outputId": "3e4e5672-3a86-4681-a3f1-d6af55d3cc47"
      },
      "source": [
        "B"
      ],
      "execution_count": null,
      "outputs": [
        {
          "output_type": "execute_result",
          "data": {
            "text/plain": [
              "array([[ 1,  2,  3],\n",
              "       [10, 20, 30]])"
            ]
          },
          "metadata": {
            "tags": []
          },
          "execution_count": 43
        }
      ]
    },
    {
      "cell_type": "code",
      "metadata": {
        "colab": {
          "base_uri": "https://localhost:8080/"
        },
        "id": "WWicFjFVBm2Z",
        "outputId": "f472702b-598a-4f03-bb42-79eaabb16c4e"
      },
      "source": [
        "B[0,0]"
      ],
      "execution_count": null,
      "outputs": [
        {
          "output_type": "execute_result",
          "data": {
            "text/plain": [
              "1"
            ]
          },
          "metadata": {
            "tags": []
          },
          "execution_count": 18
        }
      ]
    },
    {
      "cell_type": "code",
      "metadata": {
        "colab": {
          "base_uri": "https://localhost:8080/"
        },
        "id": "1IclHLojBpfl",
        "outputId": "5a724ec6-be5e-47b9-be9b-0450862db1b4"
      },
      "source": [
        "B[0,1]"
      ],
      "execution_count": null,
      "outputs": [
        {
          "output_type": "execute_result",
          "data": {
            "text/plain": [
              "2"
            ]
          },
          "metadata": {
            "tags": []
          },
          "execution_count": 27
        }
      ]
    },
    {
      "cell_type": "code",
      "metadata": {
        "colab": {
          "base_uri": "https://localhost:8080/"
        },
        "id": "KSO-rIRmBryo",
        "outputId": "a19d08c8-5332-457a-fa2a-c1ceaf73b91e"
      },
      "source": [
        "B[1,1]"
      ],
      "execution_count": null,
      "outputs": [
        {
          "output_type": "execute_result",
          "data": {
            "text/plain": [
              "20"
            ]
          },
          "metadata": {
            "tags": []
          },
          "execution_count": 45
        }
      ]
    },
    {
      "cell_type": "code",
      "metadata": {
        "colab": {
          "base_uri": "https://localhost:8080/"
        },
        "id": "5wxnm-GaBvJx",
        "outputId": "4ef57123-fa76-4584-a048-cbaaac644b78"
      },
      "source": [
        "B[1,2]"
      ],
      "execution_count": null,
      "outputs": [
        {
          "output_type": "execute_result",
          "data": {
            "text/plain": [
              "30"
            ]
          },
          "metadata": {
            "tags": []
          },
          "execution_count": 46
        }
      ]
    },
    {
      "cell_type": "code",
      "metadata": {
        "colab": {
          "base_uri": "https://localhost:8080/"
        },
        "id": "YKulX5_iCEq1",
        "outputId": "7fdca0a4-7e9b-4563-81db-6ae5b1f80371"
      },
      "source": [
        "B[0:,1]"
      ],
      "execution_count": null,
      "outputs": [
        {
          "output_type": "execute_result",
          "data": {
            "text/plain": [
              "array([ 2, 20])"
            ]
          },
          "metadata": {
            "tags": []
          },
          "execution_count": 47
        }
      ]
    },
    {
      "cell_type": "code",
      "metadata": {
        "colab": {
          "base_uri": "https://localhost:8080/"
        },
        "id": "HNYhGi4UCHZo",
        "outputId": "df264318-09b9-4c44-b3b6-379b9bbe11c1"
      },
      "source": [
        "B[1:,2:]"
      ],
      "execution_count": null,
      "outputs": [
        {
          "output_type": "execute_result",
          "data": {
            "text/plain": [
              "array([[30]])"
            ]
          },
          "metadata": {
            "tags": []
          },
          "execution_count": 52
        }
      ]
    },
    {
      "cell_type": "code",
      "metadata": {
        "colab": {
          "base_uri": "https://localhost:8080/"
        },
        "id": "F2knz5-EDADA",
        "outputId": "c9098653-070a-4fa3-8ba2-faa3ea737494"
      },
      "source": [
        "B[0:2,0:1]"
      ],
      "execution_count": null,
      "outputs": [
        {
          "output_type": "execute_result",
          "data": {
            "text/plain": [
              "array([[ 1],\n",
              "       [10]])"
            ]
          },
          "metadata": {
            "tags": []
          },
          "execution_count": 57
        }
      ]
    },
    {
      "cell_type": "code",
      "metadata": {
        "colab": {
          "base_uri": "https://localhost:8080/"
        },
        "id": "1xdJu1beDUyv",
        "outputId": "09a2350e-fa06-4dae-e5e1-20f39bf1deca"
      },
      "source": [
        "C = NP.array([[1,2,3,4,5],[10,20,30,40,50]])\n",
        "C"
      ],
      "execution_count": null,
      "outputs": [
        {
          "output_type": "execute_result",
          "data": {
            "text/plain": [
              "array([[ 1,  2,  3,  4,  5],\n",
              "       [10, 20, 30, 40, 50]])"
            ]
          },
          "metadata": {
            "tags": []
          },
          "execution_count": 64
        }
      ]
    },
    {
      "cell_type": "code",
      "metadata": {
        "colab": {
          "base_uri": "https://localhost:8080/"
        },
        "id": "hVn9KPskEY7P",
        "outputId": "54bc3fc1-e272-4144-e73c-8f41a3047dce"
      },
      "source": [
        "C.shape"
      ],
      "execution_count": null,
      "outputs": [
        {
          "output_type": "execute_result",
          "data": {
            "text/plain": [
              "(2, 5)"
            ]
          },
          "metadata": {
            "tags": []
          },
          "execution_count": 66
        }
      ]
    },
    {
      "cell_type": "code",
      "metadata": {
        "colab": {
          "base_uri": "https://localhost:8080/"
        },
        "id": "fSDfqdqnEsNl",
        "outputId": "597870c5-4653-4220-e60a-44de63ad05e6"
      },
      "source": [
        "C[0:3,0:3]"
      ],
      "execution_count": null,
      "outputs": [
        {
          "output_type": "execute_result",
          "data": {
            "text/plain": [
              "array([[ 1,  2,  3],\n",
              "       [10, 20, 30]])"
            ]
          },
          "metadata": {
            "tags": []
          },
          "execution_count": 72
        }
      ]
    },
    {
      "cell_type": "code",
      "metadata": {
        "colab": {
          "base_uri": "https://localhost:8080/"
        },
        "id": "l_HHG-QRE8ou",
        "outputId": "6ee3c466-d00c-4966-eabc-59191709ff41"
      },
      "source": [
        "C[0:2,4:5]"
      ],
      "execution_count": null,
      "outputs": [
        {
          "output_type": "execute_result",
          "data": {
            "text/plain": [
              "array([[ 5],\n",
              "       [50]])"
            ]
          },
          "metadata": {
            "tags": []
          },
          "execution_count": 84
        }
      ]
    },
    {
      "cell_type": "code",
      "metadata": {
        "colab": {
          "base_uri": "https://localhost:8080/"
        },
        "id": "rClXJdwwMxc5",
        "outputId": "2558aab6-c770-4bb2-ee95-cf69d6297278"
      },
      "source": [
        "C[0:2,2:5]"
      ],
      "execution_count": null,
      "outputs": [
        {
          "output_type": "execute_result",
          "data": {
            "text/plain": [
              "array([[ 3,  4,  5],\n",
              "       [30, 40, 50]])"
            ]
          },
          "metadata": {
            "tags": []
          },
          "execution_count": 152
        }
      ]
    },
    {
      "cell_type": "code",
      "metadata": {
        "colab": {
          "base_uri": "https://localhost:8080/"
        },
        "id": "drR-UX6PNYsL",
        "outputId": "4dd8dcea-98a5-4c8d-c6fe-26461c15e620"
      },
      "source": [
        "C[[1,1,1],[0,2,4]]"
      ],
      "execution_count": null,
      "outputs": [
        {
          "output_type": "execute_result",
          "data": {
            "text/plain": [
              "array([10, 30, 50])"
            ]
          },
          "metadata": {
            "tags": []
          },
          "execution_count": 154
        }
      ]
    },
    {
      "cell_type": "code",
      "metadata": {
        "colab": {
          "base_uri": "https://localhost:8080/"
        },
        "id": "eIUeNSPvFIwo",
        "outputId": "622e41fb-50ee-4b41-e1b4-1adb3087aed3"
      },
      "source": [
        "C.min()"
      ],
      "execution_count": null,
      "outputs": [
        {
          "output_type": "execute_result",
          "data": {
            "text/plain": [
              "1"
            ]
          },
          "metadata": {
            "tags": []
          },
          "execution_count": 86
        }
      ]
    },
    {
      "cell_type": "code",
      "metadata": {
        "colab": {
          "base_uri": "https://localhost:8080/"
        },
        "id": "gCbmDT2bFsDR",
        "outputId": "c57812bf-7441-4fb4-9e42-bc75e7dfb472"
      },
      "source": [
        "C.max()"
      ],
      "execution_count": null,
      "outputs": [
        {
          "output_type": "execute_result",
          "data": {
            "text/plain": [
              "50"
            ]
          },
          "metadata": {
            "tags": []
          },
          "execution_count": 88
        }
      ]
    },
    {
      "cell_type": "code",
      "metadata": {
        "colab": {
          "base_uri": "https://localhost:8080/"
        },
        "id": "oo3EAOqUFweN",
        "outputId": "31a47b7a-df14-4851-c519-9f787aca1b9a"
      },
      "source": [
        "C.sum()"
      ],
      "execution_count": null,
      "outputs": [
        {
          "output_type": "execute_result",
          "data": {
            "text/plain": [
              "165"
            ]
          },
          "metadata": {
            "tags": []
          },
          "execution_count": 90
        }
      ]
    },
    {
      "cell_type": "code",
      "metadata": {
        "colab": {
          "base_uri": "https://localhost:8080/"
        },
        "id": "ciNEeQMyFyJe",
        "outputId": "8b28ddd8-b57d-4f24-99cb-eee56754f687"
      },
      "source": [
        "# Sum according to column wise\n",
        "print(C)\n",
        "print(\"After sum\")\n",
        "print(NP.sum(C, axis=0))"
      ],
      "execution_count": null,
      "outputs": [
        {
          "output_type": "stream",
          "text": [
            "[[ 1  2  3  4  5]\n",
            " [10 20 30 40 50]]\n",
            "After sum\n",
            "[11 22 33 44 55]\n"
          ],
          "name": "stdout"
        }
      ]
    },
    {
      "cell_type": "code",
      "metadata": {
        "colab": {
          "base_uri": "https://localhost:8080/"
        },
        "id": "6h5zOASZGQWB",
        "outputId": "09374018-ae85-4f9b-8845-ea04c18476aa"
      },
      "source": [
        "# Sum according to Row wisse\n",
        "print(C)\n",
        "print(\"After Sum \")\n",
        "print(NP.sum(C, axis= 1))"
      ],
      "execution_count": null,
      "outputs": [
        {
          "output_type": "stream",
          "text": [
            "[[ 1  2  3  4  5]\n",
            " [10 20 30 40 50]]\n",
            "After Sum \n",
            "[ 15 150]\n"
          ],
          "name": "stdout"
        }
      ]
    },
    {
      "cell_type": "markdown",
      "metadata": {
        "id": "zsCQVOzuG7v1"
      },
      "source": [
        "**Array Mathametical Operations**"
      ]
    },
    {
      "cell_type": "code",
      "metadata": {
        "colab": {
          "base_uri": "https://localhost:8080/"
        },
        "id": "CylO7FuAGrga",
        "outputId": "3e879f80-6974-45fa-bde2-a6f25010e1d1"
      },
      "source": [
        "X =NP.array([[1,2],[3,4]])\n",
        "Y =NP.array([[5,6],[7,8]])\n",
        "\n",
        "print(X)\n",
        "print(Y)"
      ],
      "execution_count": null,
      "outputs": [
        {
          "output_type": "stream",
          "text": [
            "[[1 2]\n",
            " [3 4]]\n",
            "[[5 6]\n",
            " [7 8]]\n"
          ],
          "name": "stdout"
        }
      ]
    },
    {
      "cell_type": "code",
      "metadata": {
        "colab": {
          "base_uri": "https://localhost:8080/"
        },
        "id": "IeHBS4oIHl-2",
        "outputId": "ceebf0a2-4c2e-4fbb-c94b-2680cbe03be0"
      },
      "source": [
        "print(X+Y)\n",
        "\n",
        "# OR\n",
        "\n",
        "print(NP.add(X,Y))"
      ],
      "execution_count": null,
      "outputs": [
        {
          "output_type": "stream",
          "text": [
            "[[ 6  8]\n",
            " [10 12]]\n",
            "[[ 6  8]\n",
            " [10 12]]\n"
          ],
          "name": "stdout"
        }
      ]
    },
    {
      "cell_type": "code",
      "metadata": {
        "colab": {
          "base_uri": "https://localhost:8080/"
        },
        "id": "_mVs5RQeHuvF",
        "outputId": "12ce2264-4770-442f-e01d-c3f5d27d1faf"
      },
      "source": [
        "print(X-Y)\n",
        "\n",
        "# OR\n",
        "\n",
        "print(NP.subtract(X,Y))"
      ],
      "execution_count": null,
      "outputs": [
        {
          "output_type": "stream",
          "text": [
            "[[-4 -4]\n",
            " [-4 -4]]\n",
            "[[-4 -4]\n",
            " [-4 -4]]\n"
          ],
          "name": "stdout"
        }
      ]
    },
    {
      "cell_type": "code",
      "metadata": {
        "colab": {
          "base_uri": "https://localhost:8080/"
        },
        "id": "2ukX7-jOITKK",
        "outputId": "b7ac199d-be39-481d-8364-9ed3909f9e0a"
      },
      "source": [
        "print(X*Y)\n",
        "\n",
        "# OR\n",
        "\n",
        "print(NP.multiply(X,Y))"
      ],
      "execution_count": null,
      "outputs": [
        {
          "output_type": "stream",
          "text": [
            "[[ 5 12]\n",
            " [21 32]]\n",
            "[[ 5 12]\n",
            " [21 32]]\n"
          ],
          "name": "stdout"
        }
      ]
    },
    {
      "cell_type": "code",
      "metadata": {
        "colab": {
          "base_uri": "https://localhost:8080/"
        },
        "id": "eUegaabrIgHs",
        "outputId": "70fa1c28-fa93-406a-e7ba-e18acb711c48"
      },
      "source": [
        "print(X/Y)"
      ],
      "execution_count": null,
      "outputs": [
        {
          "output_type": "stream",
          "text": [
            "[[0.2        0.33333333]\n",
            " [0.42857143 0.5       ]]\n"
          ],
          "name": "stdout"
        }
      ]
    },
    {
      "cell_type": "code",
      "metadata": {
        "colab": {
          "base_uri": "https://localhost:8080/"
        },
        "id": "vnWw2XJpItli",
        "outputId": "894930bb-471d-4c23-cff5-04970d346b8d"
      },
      "source": [
        "print(NP.sqrt(X))  "
      ],
      "execution_count": null,
      "outputs": [
        {
          "output_type": "stream",
          "text": [
            "[[1.         1.41421356]\n",
            " [1.73205081 2.        ]]\n"
          ],
          "name": "stdout"
        }
      ]
    },
    {
      "cell_type": "markdown",
      "metadata": {
        "id": "EmfgZ382KEdD"
      },
      "source": [
        "-----------------------------------------------------------------------------------------------------------------------------------------"
      ]
    },
    {
      "cell_type": "code",
      "metadata": {
        "colab": {
          "base_uri": "https://localhost:8080/"
        },
        "id": "4ML5OEsnKPyC",
        "outputId": "bef43dfd-cb2a-4971-d22f-aa1ac0c4b530"
      },
      "source": [
        "# ID Array\n",
        "A1 = NP.arange(6)\n",
        "A1"
      ],
      "execution_count": null,
      "outputs": [
        {
          "output_type": "execute_result",
          "data": {
            "text/plain": [
              "array([0, 1, 2, 3, 4, 5])"
            ]
          },
          "metadata": {
            "tags": []
          },
          "execution_count": 131
        }
      ]
    },
    {
      "cell_type": "code",
      "metadata": {
        "colab": {
          "base_uri": "https://localhost:8080/"
        },
        "id": "linMzZc2KXMZ",
        "outputId": "b450e27e-8b6b-42ce-a51e-789e2d4e896f"
      },
      "source": [
        "# Coverted to 2D array\n",
        "print(A1.reshape(3,2))\n",
        "\n",
        "print(\"OR\")\n",
        "\n",
        "print(NP.reshape(A1,(2,3)))"
      ],
      "execution_count": null,
      "outputs": [
        {
          "output_type": "stream",
          "text": [
            "[[0 1]\n",
            " [2 3]\n",
            " [4 5]]\n",
            "OR\n",
            "[[0 1 2]\n",
            " [3 4 5]]\n"
          ],
          "name": "stdout"
        }
      ]
    },
    {
      "cell_type": "code",
      "metadata": {
        "colab": {
          "base_uri": "https://localhost:8080/"
        },
        "id": "iaMn-1qMK089",
        "outputId": "43ad0f0e-e6c9-4cb8-882d-48f4765b27c3"
      },
      "source": [
        "# Covert 2D array into 1D array\n",
        "print(NP.reshape(A1,(6)))\n",
        "\n",
        "print(\"OR\")\n",
        "\n",
        "# By using flatten \n",
        "print(A1.flatten())"
      ],
      "execution_count": null,
      "outputs": [
        {
          "output_type": "stream",
          "text": [
            "[0 1 2 3 4 5]\n",
            "OR\n",
            "[0 1 2 3 4 5]\n"
          ],
          "name": "stdout"
        }
      ]
    },
    {
      "cell_type": "code",
      "metadata": {
        "id": "-mX-03N5Lu_m"
      },
      "source": [
        ""
      ],
      "execution_count": null,
      "outputs": []
    }
  ]
}